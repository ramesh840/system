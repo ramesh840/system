{
 "cells": [
  {
   "cell_type": "code",
   "execution_count": 17,
   "id": "104a160a",
   "metadata": {},
   "outputs": [
    {
     "name": "stdout",
     "output_type": "stream",
     "text": [
      "mean =  120.7\n",
      "median =  115.3\n",
      "mode =  115.3\n",
      "varience =  1603237.8800000001\n",
      "standard deviation =  1266.1903016529545\n",
      "Standardised data: [-0.977, -0.965, -0.962, -0.961, -0.958, -0.958, -0.957, -0.953, -0.952, -0.95, -0.894]\n",
      "Before Normalising  [90.4, 105.6, 110.2, 110.9, 115.3, 115.3, 116.3, 120.5, 122.3, 125.4, 195.5]\n",
      "After Normalising  [0.0, 0.14, 0.19, 0.2, 0.24, 0.24, 0.25, 0.29, 0.3, 0.33, 1.0]\n"
     ]
    }
   ],
   "source": [
    "#mode\n",
    "arr=[115.3,195.5,120.5,110.2,90.4,105.6,110.9,116.3,122.3,125.4,115.3]\n",
    "n = len(arr) \n",
    "#mean\n",
    "sum=0\n",
    "s=len(arr)\n",
    "for i in range(s):\n",
    "    sum=sum+arr[i]\n",
    "mean=sum\n",
    "print(\"mean = \",sum/s)\n",
    "\n",
    "#median\n",
    "arr.sort()\n",
    "if i%s==0:\n",
    "    mid1=arr[s//2]\n",
    "    mid2=arr[s//2-1]\n",
    "    mid=(mid1+mid2)/2\n",
    "if i%s!=0:\n",
    "    mid=arr[s//2]\n",
    "print(\"median = \",mid)\n",
    "\n",
    "#mode\n",
    "maxim=0\n",
    "for i in arr:\n",
    "    count=0\n",
    "    for s in range(n):\n",
    "        if arr[s]==i:\n",
    "            count=count+1\n",
    "    if (maxim<=count):\n",
    "        maxim=count\n",
    "        mode=i\n",
    "if (maxim==1):\n",
    "    print( \"no mode\")\n",
    "else:\n",
    "    print(\"mode = \" ,mode)\n",
    "\n",
    "import math\n",
    "sum_sd=0\n",
    "for i in arr:\n",
    "    sum_sd+=pow((i-mean),2)\n",
    "var=sum_sd/s-1\n",
    "sd=math.sqrt(var)\n",
    "print(\"varience = \", var)\n",
    "print(\"standard deviation = \" ,sd)\n",
    "\n",
    "#standardization\n",
    "st=[]\n",
    "for i in arr:\n",
    "    st.append(round((i - mean)/sd, 3))\n",
    "print('Standardised data:',st)\n",
    "\n",
    "norm = []\n",
    "mx = max(arr)\n",
    "mn = min(arr)\n",
    "\n",
    "for i in range(len(arr)):\n",
    "    s = (arr[i] - mn) / (mx - mn)\n",
    "    norm.append(round(s, 2))\n",
    "\n",
    "print(\"Before Normalising \", arr)\n",
    "print(\"After Normalising \", norm)\n"
   ]
  },
  {
   "cell_type": "code",
   "execution_count": null,
   "id": "a3b88fb1",
   "metadata": {},
   "outputs": [],
   "source": []
  }
 ],
 "metadata": {
  "kernelspec": {
   "display_name": "Python 3 (ipykernel)",
   "language": "python",
   "name": "python3"
  },
  "language_info": {
   "codemirror_mode": {
    "name": "ipython",
    "version": 3
   },
   "file_extension": ".py",
   "mimetype": "text/x-python",
   "name": "python",
   "nbconvert_exporter": "python",
   "pygments_lexer": "ipython3",
   "version": "3.9.7"
  }
 },
 "nbformat": 4,
 "nbformat_minor": 5
}
