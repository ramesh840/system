{
 "cells": [
  {
   "cell_type": "code",
   "execution_count": null,
   "id": "80410163",
   "metadata": {},
   "outputs": [],
   "source": [
    "import pandas as pd\n",
    "import matplotlib.pyplot as plt\n",
    "from sklearn.model_selection import train_test_split\n",
    "from sklearn.tree import DecisionTreeClassifier\n",
    "from sklearn.metrics import accuracy_score,confusion_matrix,classification_report\n",
    "from sklearn import tree\n",
    "from sklearn.tree import plot_tree\n",
    "df=pd.read_csv(r'/home/asr/Desktop/7thsem/mllab/zoo.csv')\n",
    "df.head()\n",
    "x= df.iloc[:, 1:17]\n",
    "x.head()\n",
    "y=df.iloc[:,17]\n",
    "y\n",
    "x_train,x_test,y_train,y_test=train_test_split(x,y,train_size=.8,random_state=100)\n",
    "clf=DecisionTreeClassifier().fit(x_train,y_train)\n",
    "pred=clf.predict(x_test)\n",
    "print(\"Accuracy is :\",accuracy_score(y_test,pred))\n",
    "print(\"Confusion matrix is :\\n\",confusion_matrix(y_test,pred))\n",
    "print(\"Classification Report :\\n\",classification_report(y_test,pred))\n",
    "plt.figure(figsize=(25,20))\n",
    "tree.plot_tree(clf)\n",
    "plt.show()"
   ]
  }
 ],
 "metadata": {
  "kernelspec": {
   "display_name": "Python 3 (ipykernel)",
   "language": "python",
   "name": "python3"
  },
  "language_info": {
   "codemirror_mode": {
    "name": "ipython",
    "version": 3
   },
   "file_extension": ".py",
   "mimetype": "text/x-python",
   "name": "python",
   "nbconvert_exporter": "python",
   "pygments_lexer": "ipython3",
   "version": "3.9.7"
  }
 },
 "nbformat": 4,
 "nbformat_minor": 5
}
