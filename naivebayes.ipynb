{
 "cells": [
  {
   "cell_type": "code",
   "execution_count": null,
   "id": "40ea917f",
   "metadata": {},
   "outputs": [],
   "source": [
    "import pandas as pd\n",
    "import numpy as np\n",
    "\n",
    "data = pd.read_csv('/content/sample_data/covid.csv')\n",
    "\n",
    "data\n",
    "\n",
    "from sklearn import preprocessing\n",
    "le = preprocessing.LabelEncoder()\n",
    "pc_encoded=le.fit_transform(data['pc'].values)\n",
    "wbc_encoded=le.fit_transform(data['wbc'].values)\n",
    "mc_encoded=le.fit_transform(data['mc'].values)\n",
    "ast_encoded=le.fit_transform(data['ast'].values)\n",
    "bc_encoded=le.fit_transform(data['bc'].values)\n",
    "ldh_encoded=le.fit_transform(data['ldh'].values)\n",
    "Y=le.fit_transform(data['diagnosis'].values)\n",
    "\n",
    "X=np.array(list(zip(pc_encoded,wbc_encoded,mc_encoded,ast_encoded,bc_encoded,ldh_encoded)))\n",
    "print(X)\n",
    "print(Y)\n",
    "\n",
    "from sklearn.naive_bayes import MultinomialNB\n",
    "from sklearn.metrics import accuracy_score\n",
    "from sklearn.metrics import classification_report\n",
    "model = MultinomialNB()\n",
    "\n",
    "from sklearn.model_selection import train_test_split\n",
    "X_train,X_test,Y_train,Y_test=train_test_split(X,Y)\n",
    "\n",
    "model.fit(X_train, Y_train)\n",
    "y_pred = model.predict(X_test)\n",
    "print(\"Accuracy:\",accuracy_score(Y_test, y_pred))\n",
    "print(\"\\nReport\")\n",
    "print(classification_report(Y_test,y_pred))\n",
    "\n"
   ]
  }
 ],
 "metadata": {
  "kernelspec": {
   "display_name": "Python 3 (ipykernel)",
   "language": "python",
   "name": "python3"
  },
  "language_info": {
   "codemirror_mode": {
    "name": "ipython",
    "version": 3
   },
   "file_extension": ".py",
   "mimetype": "text/x-python",
   "name": "python",
   "nbconvert_exporter": "python",
   "pygments_lexer": "ipython3",
   "version": "3.9.7"
  }
 },
 "nbformat": 4,
 "nbformat_minor": 5
}
