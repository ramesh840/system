{
 "cells": [
  {
   "cell_type": "code",
   "execution_count": null,
   "id": "de16f170",
   "metadata": {},
   "outputs": [],
   "source": [
    "import pandas as pd\n",
    "import numpy as np\n",
    "df=pd.read_csv('Food_Truck.csv')\n",
    "df.head()\n",
    "x=df['x']\n",
    "y=df['y']\n",
    "n=x.count()\n",
    "y_sum = 0\n",
    "x_sum = 0 \n",
    "x2 = 0\n",
    "y2 = 0\n",
    "xy = 0\n",
    "for i in range(n):\n",
    "    x_sum += x[i]\n",
    "    y_sum += y[i]\n",
    "    x2 += (x[i]**2)\n",
    "    y2 += (y[i]**2)\n",
    "    xy += x[i]*y[i]\n",
    "    \n",
    "x_mean  = x_sum/n;\n",
    "y_mean = y_sum/n;\n",
    "dev_x = 0\n",
    "dev_y = 0\n",
    "for i in range(n):\n",
    "    dev_x += ((x[i]-x_mean)**2)\n",
    "    dev_y += ((y[i]-y_mean)**2)\n",
    "x_std = (dev_x/n)**(1/2)\n",
    "y_std = (dev_y/n)**(1/2)\n",
    "print(x_std,y_std,x_mean,y_mean)\n",
    "r=(xy/((x2**(1/2))*(y2**(1/2))))\n",
    "m=(r*(std_y/std_x))\n",
    "c=mean(y_val) - (m*mean(x_val))\n",
    "print(m,r,c)\n",
    "y_pred = []\n",
    "for num in x:\n",
    "    y_pred.append((m*num) + c)\n",
    "df['y1']=y_pred\n",
    "df.head()\n",
    "import matplotlib.pyplot as plt\n",
    "plt.scatter(x,y)\n",
    "plt.plot(x,y_pred,color='black')\n",
    "plt.show()\n",
    "SSE = 0\n",
    "SST = 0\n",
    "SSR = 0\n",
    "for i in range(n):\n",
    "    SST += ((y[i] - y_mean)**2)\n",
    "    SSE += ((y[i]-y_pred[i])**2)\n",
    "    SSR += ((y_pred[i]-y_mean)**2)\n",
    "MSE = SSE/n\n",
    "cost = pow(MSE,1/2)\n",
    "R2 = 1- (SSE/SST)\n",
    "print(\"SST: {}\\nSSE: {}\\nSSR: {}\\nMSE: {}\\nCost: {}\\nR2: {}\".format(SST,SSE,SSR,MSE,cost,R2))"
   ]
  }
 ],
 "metadata": {
  "kernelspec": {
   "display_name": "Python 3 (ipykernel)",
   "language": "python",
   "name": "python3"
  },
  "language_info": {
   "codemirror_mode": {
    "name": "ipython",
    "version": 3
   },
   "file_extension": ".py",
   "mimetype": "text/x-python",
   "name": "python",
   "nbconvert_exporter": "python",
   "pygments_lexer": "ipython3",
   "version": "3.9.7"
  }
 },
 "nbformat": 4,
 "nbformat_minor": 5
}
