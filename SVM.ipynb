{
 "cells": [
  {
   "cell_type": "code",
   "execution_count": null,
   "id": "3040f9eb",
   "metadata": {},
   "outputs": [],
   "source": [
    "from sklearn.svm import SVC\n",
    "import numpy as np\n",
    "import pandas as pd\n",
    "from matplotlib import pyplot as plt\n",
    "\n",
    "\n",
    "\n",
    "\n",
    "\n",
    "df=pd.read_csv(\"/content/sample_data/glass.csv\")\n",
    "print(\"dataset\",df)\n",
    "\n",
    "from sklearn.preprocessing import StandardScaler\n",
    "scaler = StandardScaler()\n",
    "print(scaler.fit_transform(df))\n",
    "\n",
    "x=df.drop('Type',axis=1)\n",
    "y=df.Type\n",
    "from sklearn.model_selection import train_test_split\n",
    "x_train,x_test,y_train,y_test=train_test_split(x,y,test_size=0.3)\n",
    "\n",
    "\n",
    "from sklearn import svm\n",
    "ml=svm.SVC(kernel='linear')\n",
    "ml.fit(x_train,y_train)\n",
    "\n",
    "\n",
    "print(ml.support_vectors_)\n",
    "print(ml.n_support_)\n",
    "y_pred=ml.predict(x_test)\n",
    "\n",
    "from sklearn.metrics import accuracy_score,confusion_matrix,classification_report\n",
    "print(\"Accuracy Score\",accuracy_score(y_test,y_pred))\n",
    "\n",
    "print(\"Confusion Matrix\",confusion_matrix(y_test,y_pred))\n",
    "\n",
    "print(\"Classification Report\\n\",classification_report(y_test,y_pred))\n",
    "model1=SVC(kernel='sigmoid')\n",
    "model2=SVC(kernel='poly')\n",
    "model3=SVC(kernel='rbf')\n",
    "\n",
    "#With Different Kernels\n",
    "\n",
    "model1.fit(x_train,y_train)\n",
    "model2.fit(x_train,y_train)\n",
    "model3.fit(x_train,y_train)\n",
    "ypred1=model1.predict(x_test)\n",
    "ypred2=model2.predict(x_test)\n",
    "ypred3=model3.predict(x_test)\n",
    "\n",
    "print(\"Accuracy Score of kernel 1\",accuracy_score(y_test,ypred1))\n",
    "\n",
    "print(\"Accuracy Score of kernel 2\",accuracy_score(y_test,ypred2))\n",
    "\n",
    "print(\"Accuracy Score of kernel 3\",accuracy_score(y_test,ypred3))"
   ]
  }
 ],
 "metadata": {
  "kernelspec": {
   "display_name": "Python 3 (ipykernel)",
   "language": "python",
   "name": "python3"
  },
  "language_info": {
   "codemirror_mode": {
    "name": "ipython",
    "version": 3
   },
   "file_extension": ".py",
   "mimetype": "text/x-python",
   "name": "python",
   "nbconvert_exporter": "python",
   "pygments_lexer": "ipython3",
   "version": "3.9.7"
  }
 },
 "nbformat": 4,
 "nbformat_minor": 5
}
